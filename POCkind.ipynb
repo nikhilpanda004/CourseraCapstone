{
  "nbformat": 4,
  "nbformat_minor": 0,
  "metadata": {
    "colab": {
      "provenance": [],
      "authorship_tag": "ABX9TyM7+5dujuY0fQCq8y9EFZtD",
      "include_colab_link": true
    },
    "kernelspec": {
      "name": "python3",
      "display_name": "Python 3"
    },
    "language_info": {
      "name": "python"
    }
  },
  "cells": [
    {
      "cell_type": "markdown",
      "metadata": {
        "id": "view-in-github",
        "colab_type": "text"
      },
      "source": [
        "<a href=\"https://colab.research.google.com/github/nikhilpanda004/CourseraCapstone/blob/master/POCkind.ipynb\" target=\"_parent\"><img src=\"https://colab.research.google.com/assets/colab-badge.svg\" alt=\"Open In Colab\"/></a>"
      ]
    },
    {
      "cell_type": "code",
      "source": [
        "#!pip install -U spacy\n",
        "#!python -m spacy download en_core_web_sm\n",
        "!python -m spacy download en_core_web_lg"
      ],
      "metadata": {
        "colab": {
          "base_uri": "https://localhost:8080/"
        },
        "id": "HKFZIWP8BC9P",
        "outputId": "3383878b-4e26-42b7-d0f1-97d83f75bd93"
      },
      "execution_count": 34,
      "outputs": [
        {
          "output_type": "stream",
          "name": "stdout",
          "text": [
            "/usr/local/lib/python3.8/dist-packages/torch/cuda/__init__.py:497: UserWarning: Can't initialize NVML\n",
            "  warnings.warn(\"Can't initialize NVML\")\n",
            "2023-02-23 06:47:55.833792: W tensorflow/compiler/xla/stream_executor/platform/default/dso_loader.cc:64] Could not load dynamic library 'libnvinfer.so.7'; dlerror: libnvinfer.so.7: cannot open shared object file: No such file or directory; LD_LIBRARY_PATH: /usr/local/nvidia/lib:/usr/local/nvidia/lib64\n",
            "2023-02-23 06:47:55.834177: W tensorflow/compiler/xla/stream_executor/platform/default/dso_loader.cc:64] Could not load dynamic library 'libnvinfer_plugin.so.7'; dlerror: libnvinfer_plugin.so.7: cannot open shared object file: No such file or directory; LD_LIBRARY_PATH: /usr/local/nvidia/lib:/usr/local/nvidia/lib64\n",
            "2023-02-23 06:47:55.834225: W tensorflow/compiler/tf2tensorrt/utils/py_utils.cc:38] TF-TRT Warning: Cannot dlopen some TensorRT libraries. If you would like to use Nvidia GPU with TensorRT, please make sure the missing libraries mentioned above are installed properly.\n",
            "2023-02-23 06:47:57.227928: E tensorflow/compiler/xla/stream_executor/cuda/cuda_driver.cc:267] failed call to cuInit: CUDA_ERROR_NO_DEVICE: no CUDA-capable device is detected\n",
            "Looking in indexes: https://pypi.org/simple, https://us-python.pkg.dev/colab-wheels/public/simple/\n",
            "Collecting en-core-web-lg==3.5.0\n",
            "  Downloading https://github.com/explosion/spacy-models/releases/download/en_core_web_lg-3.5.0/en_core_web_lg-3.5.0-py3-none-any.whl (587.7 MB)\n",
            "\u001b[2K     \u001b[90m━━━━━━━━━━━━━━━━━━━━━━━━━━━━━━━━━━━━━━━\u001b[0m \u001b[32m587.7/587.7 MB\u001b[0m \u001b[31m3.1 MB/s\u001b[0m eta \u001b[36m0:00:00\u001b[0m\n",
            "\u001b[?25hRequirement already satisfied: spacy<3.6.0,>=3.5.0 in /usr/local/lib/python3.8/dist-packages (from en-core-web-lg==3.5.0) (3.5.0)\n",
            "Requirement already satisfied: tqdm<5.0.0,>=4.38.0 in /usr/local/lib/python3.8/dist-packages (from spacy<3.6.0,>=3.5.0->en-core-web-lg==3.5.0) (4.64.1)\n",
            "Requirement already satisfied: wasabi<1.2.0,>=0.9.1 in /usr/local/lib/python3.8/dist-packages (from spacy<3.6.0,>=3.5.0->en-core-web-lg==3.5.0) (0.10.1)\n",
            "Requirement already satisfied: jinja2 in /usr/local/lib/python3.8/dist-packages (from spacy<3.6.0,>=3.5.0->en-core-web-lg==3.5.0) (2.11.3)\n",
            "Requirement already satisfied: srsly<3.0.0,>=2.4.3 in /usr/local/lib/python3.8/dist-packages (from spacy<3.6.0,>=3.5.0->en-core-web-lg==3.5.0) (2.4.5)\n",
            "Requirement already satisfied: cymem<2.1.0,>=2.0.2 in /usr/local/lib/python3.8/dist-packages (from spacy<3.6.0,>=3.5.0->en-core-web-lg==3.5.0) (2.0.7)\n",
            "Requirement already satisfied: typer<0.8.0,>=0.3.0 in /usr/local/lib/python3.8/dist-packages (from spacy<3.6.0,>=3.5.0->en-core-web-lg==3.5.0) (0.7.0)\n",
            "Requirement already satisfied: spacy-loggers<2.0.0,>=1.0.0 in /usr/local/lib/python3.8/dist-packages (from spacy<3.6.0,>=3.5.0->en-core-web-lg==3.5.0) (1.0.4)\n",
            "Requirement already satisfied: pydantic!=1.8,!=1.8.1,<1.11.0,>=1.7.4 in /usr/local/lib/python3.8/dist-packages (from spacy<3.6.0,>=3.5.0->en-core-web-lg==3.5.0) (1.10.5)\n",
            "Requirement already satisfied: setuptools in /usr/local/lib/python3.8/dist-packages (from spacy<3.6.0,>=3.5.0->en-core-web-lg==3.5.0) (57.4.0)\n",
            "Requirement already satisfied: numpy>=1.15.0 in /usr/local/lib/python3.8/dist-packages (from spacy<3.6.0,>=3.5.0->en-core-web-lg==3.5.0) (1.22.4)\n",
            "Requirement already satisfied: pathy>=0.10.0 in /usr/local/lib/python3.8/dist-packages (from spacy<3.6.0,>=3.5.0->en-core-web-lg==3.5.0) (0.10.1)\n",
            "Requirement already satisfied: murmurhash<1.1.0,>=0.28.0 in /usr/local/lib/python3.8/dist-packages (from spacy<3.6.0,>=3.5.0->en-core-web-lg==3.5.0) (1.0.9)\n",
            "Requirement already satisfied: smart-open<7.0.0,>=5.2.1 in /usr/local/lib/python3.8/dist-packages (from spacy<3.6.0,>=3.5.0->en-core-web-lg==3.5.0) (6.3.0)\n",
            "Requirement already satisfied: langcodes<4.0.0,>=3.2.0 in /usr/local/lib/python3.8/dist-packages (from spacy<3.6.0,>=3.5.0->en-core-web-lg==3.5.0) (3.3.0)\n",
            "Requirement already satisfied: preshed<3.1.0,>=3.0.2 in /usr/local/lib/python3.8/dist-packages (from spacy<3.6.0,>=3.5.0->en-core-web-lg==3.5.0) (3.0.8)\n",
            "Requirement already satisfied: spacy-legacy<3.1.0,>=3.0.11 in /usr/local/lib/python3.8/dist-packages (from spacy<3.6.0,>=3.5.0->en-core-web-lg==3.5.0) (3.0.12)\n",
            "Requirement already satisfied: thinc<8.2.0,>=8.1.0 in /usr/local/lib/python3.8/dist-packages (from spacy<3.6.0,>=3.5.0->en-core-web-lg==3.5.0) (8.1.7)\n",
            "Requirement already satisfied: packaging>=20.0 in /usr/local/lib/python3.8/dist-packages (from spacy<3.6.0,>=3.5.0->en-core-web-lg==3.5.0) (23.0)\n",
            "Requirement already satisfied: requests<3.0.0,>=2.13.0 in /usr/local/lib/python3.8/dist-packages (from spacy<3.6.0,>=3.5.0->en-core-web-lg==3.5.0) (2.25.1)\n",
            "Requirement already satisfied: catalogue<2.1.0,>=2.0.6 in /usr/local/lib/python3.8/dist-packages (from spacy<3.6.0,>=3.5.0->en-core-web-lg==3.5.0) (2.0.8)\n",
            "Requirement already satisfied: typing-extensions>=4.2.0 in /usr/local/lib/python3.8/dist-packages (from pydantic!=1.8,!=1.8.1,<1.11.0,>=1.7.4->spacy<3.6.0,>=3.5.0->en-core-web-lg==3.5.0) (4.5.0)\n",
            "Requirement already satisfied: certifi>=2017.4.17 in /usr/local/lib/python3.8/dist-packages (from requests<3.0.0,>=2.13.0->spacy<3.6.0,>=3.5.0->en-core-web-lg==3.5.0) (2022.12.7)\n",
            "Requirement already satisfied: urllib3<1.27,>=1.21.1 in /usr/local/lib/python3.8/dist-packages (from requests<3.0.0,>=2.13.0->spacy<3.6.0,>=3.5.0->en-core-web-lg==3.5.0) (1.24.3)\n",
            "Requirement already satisfied: chardet<5,>=3.0.2 in /usr/local/lib/python3.8/dist-packages (from requests<3.0.0,>=2.13.0->spacy<3.6.0,>=3.5.0->en-core-web-lg==3.5.0) (4.0.0)\n",
            "Requirement already satisfied: idna<3,>=2.5 in /usr/local/lib/python3.8/dist-packages (from requests<3.0.0,>=2.13.0->spacy<3.6.0,>=3.5.0->en-core-web-lg==3.5.0) (2.10)\n",
            "Requirement already satisfied: confection<1.0.0,>=0.0.1 in /usr/local/lib/python3.8/dist-packages (from thinc<8.2.0,>=8.1.0->spacy<3.6.0,>=3.5.0->en-core-web-lg==3.5.0) (0.0.4)\n",
            "Requirement already satisfied: blis<0.8.0,>=0.7.8 in /usr/local/lib/python3.8/dist-packages (from thinc<8.2.0,>=8.1.0->spacy<3.6.0,>=3.5.0->en-core-web-lg==3.5.0) (0.7.9)\n",
            "Requirement already satisfied: click<9.0.0,>=7.1.1 in /usr/local/lib/python3.8/dist-packages (from typer<0.8.0,>=0.3.0->spacy<3.6.0,>=3.5.0->en-core-web-lg==3.5.0) (7.1.2)\n",
            "Requirement already satisfied: MarkupSafe>=0.23 in /usr/local/lib/python3.8/dist-packages (from jinja2->spacy<3.6.0,>=3.5.0->en-core-web-lg==3.5.0) (2.0.1)\n",
            "Installing collected packages: en-core-web-lg\n",
            "Successfully installed en-core-web-lg-3.5.0\n",
            "\u001b[38;5;2m✔ Download and installation successful\u001b[0m\n",
            "You can now load the package via spacy.load('en_core_web_lg')\n"
          ]
        }
      ]
    },
    {
      "cell_type": "code",
      "execution_count": 36,
      "metadata": {
        "id": "LXU3S9iw3sUx"
      },
      "outputs": [],
      "source": [
        "# Import required libraries\n",
        "import spacy\n",
        "from spacy.matcher import Matcher\n",
        "import re"
      ]
    },
    {
      "cell_type": "code",
      "source": [
        "# Load the pre-trained spacy model\n",
        "nlp = spacy.load(\"en_core_web_lg\")\n",
        "print(nlp('Hello World!!!'))"
      ],
      "metadata": {
        "colab": {
          "base_uri": "https://localhost:8080/"
        },
        "id": "G5qfLmjK3yC_",
        "outputId": "17be4b19-b951-4257-a4fc-403981a876fe"
      },
      "execution_count": 42,
      "outputs": [
        {
          "output_type": "stream",
          "name": "stderr",
          "text": [
            "/usr/local/lib/python3.8/dist-packages/spacy/util.py:877: UserWarning: [W095] Model 'en_core_web_lg' (3.5.0) was trained with spaCy v3.5 and may not be 100% compatible with the current version (3.4.4). If you see errors or degraded performance, download a newer compatible model or retrain your custom model with the current spaCy version. For more details and available updates, run: python -m spacy validate\n",
            "  warnings.warn(warn_msg)\n"
          ]
        },
        {
          "output_type": "stream",
          "name": "stdout",
          "text": [
            "Hello World!!!\n"
          ]
        }
      ]
    },
    {
      "cell_type": "code",
      "source": [
        "# Define the pre-loaded queries as a dictionary\n",
        "pre_loaded_queries = {\n",
        "    'match_all_nodes': 'MATCH (n) RETURN n',\n",
        "    'match_nodes_by_label': 'MATCH (n:{label}) RETURN n',\n",
        "    'match_nodes_by_property': 'MATCH (n) WHERE n.{property} = \"{value}\" RETURN n',\n",
        "    'match_nodes_by_label_and_property': 'MATCH (n:{label}) WHERE n.{property} = \"{value}\" RETURN n'\n",
        "}"
      ],
      "metadata": {
        "id": "5VTdJvG6390X"
      },
      "execution_count": 39,
      "outputs": []
    },
    {
      "cell_type": "code",
      "source": [
        "# Define the function to generate the Cypher query from natural language input\n",
        "def generate_cypher_query(natural_language_input):\n",
        "    # Define the variable to store the generated query\n",
        "    cypher_query = ''\n",
        "    \n",
        "    # Tokenize the input text and apply POS tagging\n",
        "    doc = nlp(natural_language_input)\n",
        "    print('doc: ', doc)\n",
        "    # Initialize the matcher and add pattern to match the labels\n",
        "    matcher = Matcher(nlp.vocab)\n",
        "    pattern = [{\"LOWER\": \"label\"}, {\"IS_PUNCT\": True}, {\"POS\": \"PROPN\"}]\n",
        "    matcher.add(\"Label\", [pattern])\n",
        "    print('matcher: ', matcher(doc))\n",
        "    \n",
        "    # Define variables to store label, property, and value\n",
        "    label = ''\n",
        "    property = ''\n",
        "    value = ''\n",
        "    \n",
        "    # Iterate over the tokens in the input text\n",
        "    for token in doc:\n",
        "        # Check if the token is a label\n",
        "        if len(matcher(doc)) > 0 and matcher(doc)[0][1] == token.i:\n",
        "            label = token.text\n",
        "            \n",
        "        # Check if the token is a property\n",
        "        if token.pos_ == 'NOUN' and token.i < len(doc)-2:\n",
        "            if doc[token.i+1].pos_ == 'ADP' and doc[token.i+2].pos_ == 'PROPN':\n",
        "                property = token.text + ' ' + doc[token.i+2].text\n",
        "                \n",
        "        # Check if the token is a value\n",
        "        if token.pos_ == 'PROPN' or token.pos_ == 'NUM' or token.pos_ == 'ADJ':\n",
        "            value += token.text + ' '\n",
        "    \n",
        "    # Check if a query template can be selected based on the extracted variables\n",
        "    if label != '' and property != '' and value != '':\n",
        "        cypher_query = pre_loaded_queries['match_nodes_by_label_and_property'].format(label=label, property=property.lower().replace(' ', '_'), value=value.strip())\n",
        "    elif label != '' and property != '':\n",
        "        cypher_query = pre_loaded_queries['match_nodes_by_label'].format(label=label)\n",
        "    elif property != '' and value != '':\n",
        "        cypher_query = pre_loaded_queries['match_nodes_by_property'].format(property=property.lower().replace(' ', '_'), value=value.strip())\n",
        "    elif label == '' and property == '' and value == '':\n",
        "        cypher_query = pre_loaded_queries['match_all_nodes']\n",
        "    \n",
        "    # Return the generated query\n",
        "    return cypher_query\n",
        "\n",
        "# Test the function with an example input\n",
        "input_text = \"Show me all the employees who are managers\"\n",
        "cypher_query = generate_cypher_query(input_text)\n",
        "print(cypher_query)"
      ],
      "metadata": {
        "colab": {
          "base_uri": "https://localhost:8080/"
        },
        "id": "UPHjdpmy3_92",
        "outputId": "60cbcbd7-e6ab-4641-8579-30cf89d89a02"
      },
      "execution_count": 40,
      "outputs": [
        {
          "output_type": "stream",
          "name": "stdout",
          "text": [
            "doc:  Show me all the employees who are managers\n",
            "matcher:  []\n",
            "MATCH (n) RETURN n\n"
          ]
        }
      ]
    },
    {
      "cell_type": "code",
      "source": [
        "query_templates = {\n",
        "    \"get_all_nodes\": \"MATCH (n) RETURN n\",\n",
        "    \"get_nodes_with_label\": \"MATCH (n:{label}) RETURN n\",\n",
        "    \"get_nodes_with_property\": \"MATCH (n:{label}) WHERE n.{property}='{value}' RETURN n\",\n",
        "    # add more query templates as needed\n",
        "}\n",
        "\n",
        "# define the function to generate Cypher queries from natural language input\n",
        "def generate_cypher_query(natural_language_input):\n",
        "    # use SpaCy to extract the relevant entities and relationships from the input\n",
        "    doc = nlp(natural_language_input)\n",
        "    print('doc:', doc)\n",
        "    label = None\n",
        "    property = None\n",
        "    value = None\n",
        "    # extract the label, property, and value from the input\n",
        "    for ent in doc.ents:\n",
        "        if ent.label_ == \"LABEL\":\n",
        "            label = ent.text\n",
        "        elif ent.label_ == \"PROPERTY\":\n",
        "            property = ent.text\n",
        "        elif ent.label_ == \"VALUE\":\n",
        "            value = ent.text\n",
        "\n",
        "    # choose the appropriate query template based on the extracted entities\n",
        "    if label is None and property is None:\n",
        "        query = query_templates[\"get_all_nodes\"]\n",
        "    elif label is not None and property is None:\n",
        "        query = query_templates[\"get_nodes_with_label\"].format(label=label)\n",
        "    elif label is not None and property is not None and value is not None:\n",
        "        query = query_templates[\"get_nodes_with_property\"].format(label=label, property=property, value=value)\n",
        "    else:\n",
        "        # raise an error if the input is invalid\n",
        "        raise ValueError(\"Invalid input\")\n",
        "\n",
        "    return query\n",
        "\n",
        "# define the function to execute the Cypher query on the graph database\n",
        "# def execute_cypher_query(query):\n",
        "#     # connect to the graph database\n",
        "#     graph = Graph(\"bolt://localhost:7687\", auth=(\"username\", \"password\"))\n",
        "#     # execute the query and return the results\n",
        "#     result = graph.run(query)\n",
        "#     return result\n",
        "\n",
        "# test the functions with some sample inputs\n",
        "input_1 = \"Get all nodes\"\n",
        "input_2 = \"Get all nodes with label Person\"\n",
        "input_3 = \"Get all nodes with property name='John'\"\n",
        "\n",
        "query_1 = generate_cypher_query(input_1)\n",
        "query_2 = generate_cypher_query(input_2)\n",
        "query_3 = generate_cypher_query(input_3)\n",
        "\n",
        "# result_1 = execute_cypher_query(query_1)\n",
        "# result_2 = execute_cypher_query(query_2)\n",
        "# result_3 = execute_cypher_query(query_3)\n",
        "\n",
        "# print(result_1.data())\n",
        "# print(result_2.data())\n",
        "# print(result_3.data())\n",
        "print(query_1)\n",
        "print(query_2)\n",
        "print(query_3)"
      ],
      "metadata": {
        "colab": {
          "base_uri": "https://localhost:8080/"
        },
        "id": "AU2_4Qon-2bk",
        "outputId": "54df3ea8-ab67-4566-bd61-fea841a5b0e2"
      },
      "execution_count": 41,
      "outputs": [
        {
          "output_type": "stream",
          "name": "stdout",
          "text": [
            "doc: Get all nodes\n",
            "doc: Get all nodes with label Person\n",
            "doc: Get all nodes with property name='John'\n",
            "MATCH (n) RETURN n\n",
            "MATCH (n) RETURN n\n",
            "MATCH (n) RETURN n\n"
          ]
        }
      ]
    }
  ]
}